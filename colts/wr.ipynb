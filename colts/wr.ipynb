{
 "cells": [
  {
   "cell_type": "markdown",
   "metadata": {},
   "source": [
    "# Air Yards"
   ]
  },
  {
   "cell_type": "code",
   "execution_count": 2,
   "metadata": {},
   "outputs": [
    {
     "name": "stdout",
     "output_type": "stream",
     "text": [
      "Downcasting floats.\n",
      "       player_name  receiving_air_yards  targets  receptions  receiving_yards  \\\n",
      "4         J.Flacco                  0.0        0           0              0.0   \n",
      "507       J.Taylor                  1.0        4           3             20.0   \n",
      "521      M.Pittman                116.0        9           6            113.0   \n",
      "701       T.Sermon                  0.0        0           0              0.0   \n",
      "779     A.Ogletree                  5.0        1           1             15.0   \n",
      "804       A.Pierce                 61.0        2           1              9.0   \n",
      "1028       J.Downs                 60.0        9           8             82.0   \n",
      "1094  A.Richardson                  0.0        0           0              0.0   \n",
      "1196    A.Mitchell                 67.0        3           0              0.0   \n",
      "\n",
      "      receiving_tds  \n",
      "4                 0  \n",
      "507               0  \n",
      "521               0  \n",
      "701               0  \n",
      "779               1  \n",
      "804               0  \n",
      "1028              1  \n",
      "1094              0  \n",
      "1196              0  \n"
     ]
    }
   ],
   "source": [
    "import nfl_data_py as nfl\n",
    "import pandas as pd\n",
    "\n",
    "nfl.see_weekly_cols()\n",
    "\n",
    "current_season = nfl.import_weekly_data([2024])\n",
    "\n",
    "# Saving current season data to a dataframe\n",
    "df = pd.DataFrame(current_season)\n",
    "\n",
    "# Filter the DataFrame for Week 4, 2024 season, and Indianapolis Colts\n",
    "filtered_df = df[(df['season'] == 2024) & (df['week'] == 4) & (df['recent_team'] == 'IND')]\n",
    "\n",
    "# air yards\n",
    "air_yards_df = filtered_df[['player_name', 'receiving_air_yards', 'targets', 'receptions', 'receiving_yards', 'receiving_tds']]  \n",
    "\n",
    "print(air_yards_df)\n",
    "\n"
   ]
  },
  {
   "cell_type": "code",
   "execution_count": 18,
   "metadata": {},
   "outputs": [
    {
     "data": {
      "text/plain": [
       "Index(['player_id', 'player_name', 'player_display_name', 'position',\n",
       "       'position_group', 'headshot_url', 'recent_team', 'season', 'week',\n",
       "       'season_type', 'opponent_team', 'completions', 'attempts',\n",
       "       'passing_yards', 'passing_tds', 'interceptions', 'sacks', 'sack_yards',\n",
       "       'sack_fumbles', 'sack_fumbles_lost', 'passing_air_yards',\n",
       "       'passing_yards_after_catch', 'passing_first_downs', 'passing_epa',\n",
       "       'passing_2pt_conversions', 'pacr', 'dakota', 'carries', 'rushing_yards',\n",
       "       'rushing_tds', 'rushing_fumbles', 'rushing_fumbles_lost',\n",
       "       'rushing_first_downs', 'rushing_epa', 'rushing_2pt_conversions',\n",
       "       'receptions', 'targets', 'receiving_yards', 'receiving_tds',\n",
       "       'receiving_fumbles', 'receiving_fumbles_lost', 'receiving_air_yards',\n",
       "       'receiving_yards_after_catch', 'receiving_first_downs', 'receiving_epa',\n",
       "       'receiving_2pt_conversions', 'racr', 'target_share', 'air_yards_share',\n",
       "       'wopr', 'special_teams_tds', 'fantasy_points', 'fantasy_points_ppr'],\n",
       "      dtype='object')"
      ]
     },
     "execution_count": 18,
     "metadata": {},
     "output_type": "execute_result"
    }
   ],
   "source": [
    "nfl.see_weekly_cols()"
   ]
  }
 ],
 "metadata": {
  "kernelspec": {
   "display_name": "Python 3",
   "language": "python",
   "name": "python3"
  },
  "language_info": {
   "codemirror_mode": {
    "name": "ipython",
    "version": 3
   },
   "file_extension": ".py",
   "mimetype": "text/x-python",
   "name": "python",
   "nbconvert_exporter": "python",
   "pygments_lexer": "ipython3",
   "version": "3.11.3"
  }
 },
 "nbformat": 4,
 "nbformat_minor": 2
}
