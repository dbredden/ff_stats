{
 "cells": [
  {
   "cell_type": "markdown",
   "metadata": {},
   "source": [
    "# Passing Stats"
   ]
  },
  {
   "cell_type": "code",
   "execution_count": 4,
   "metadata": {},
   "outputs": [
    {
     "name": "stdout",
     "output_type": "stream",
     "text": [
      "Downcasting floats.\n",
      "       player_id   player_name  attempts  completions  passing_yards  \\\n",
      "4     00-0026158      J.Flacco        26           16          168.0   \n",
      "514   00-0036223      J.Taylor         0            0            0.0   \n",
      "528   00-0036252     M.Pittman         0            0            0.0   \n",
      "710   00-0036984      T.Sermon         0            0            0.0   \n",
      "791   00-0037292    A.Ogletree         0            0            0.0   \n",
      "816   00-0037664      A.Pierce         0            0            0.0   \n",
      "1042  00-0038997       J.Downs         0            0            0.0   \n",
      "1108  00-0039164  A.Richardson         4            3           71.0   \n",
      "1211  00-0039890    A.Mitchell         0            0            0.0   \n",
      "\n",
      "      passing_epa  \n",
      "4        7.757927  \n",
      "514           NaN  \n",
      "528           NaN  \n",
      "710           NaN  \n",
      "791           NaN  \n",
      "816           NaN  \n",
      "1042          NaN  \n",
      "1108     4.277929  \n",
      "1211          NaN  \n"
     ]
    }
   ],
   "source": [
    "import nfl_data_py as nfl\n",
    "import pandas as pd\n",
    "\n",
    "current_season = nfl.import_weekly_data([2024])\n",
    "snaps = nfl.import_snap_counts([2024])\n",
    "\n",
    "# Saving current season data to a dataframe\n",
    "df = pd.DataFrame(current_season)\n",
    "\n",
    "# Filter the DataFrame for Week 4, 2024 season, and Indianapolis Colts\n",
    "filtered_df = df[(df['season'] == 2024) & (df['week'] == 4) & (df['recent_team'] == 'IND')]\n",
    "\n",
    "# create passing_epa/play variable by taking the snaps for each \n",
    "\n",
    "\n",
    "passing_df = filtered_df[['player_name', 'attempts', 'completions', 'passing_yards', 'passing_epa']]\n",
    "\n",
    "print(passing_df)"
   ]
  }
 ],
 "metadata": {
  "kernelspec": {
   "display_name": "Python 3",
   "language": "python",
   "name": "python3"
  },
  "language_info": {
   "codemirror_mode": {
    "name": "ipython",
    "version": 3
   },
   "file_extension": ".py",
   "mimetype": "text/x-python",
   "name": "python",
   "nbconvert_exporter": "python",
   "pygments_lexer": "ipython3",
   "version": "3.11.3"
  }
 },
 "nbformat": 4,
 "nbformat_minor": 2
}
